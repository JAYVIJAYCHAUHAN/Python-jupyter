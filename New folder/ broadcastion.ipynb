{
 "cells": [
  {
   "cell_type": "code",
   "execution_count": 2,
   "id": "1c61590d",
   "metadata": {},
   "outputs": [
    {
     "name": "stdout",
     "output_type": "stream",
     "text": [
      "[[9 6 4]\n",
      " [8 7 2]\n",
      " [3 8 7]]\n",
      "[[8 3 6]\n",
      " [5 3 5]\n",
      " [3 3 1]]\n"
     ]
    }
   ],
   "source": [
    "import numpy as np\n",
    "x=np.random.randint(1,10,( 3,3))\n",
    "y=np.random.randint(1,10,(3,3))\n",
    "print(x)\n",
    "print(y)"
   ]
  },
  {
   "cell_type": "code",
   "execution_count": 4,
   "id": "f6dd8154",
   "metadata": {},
   "outputs": [
    {
     "data": {
      "text/plain": [
       "array([[17,  9, 10],\n",
       "       [13, 10,  7],\n",
       "       [ 6, 11,  8]])"
      ]
     },
     "execution_count": 4,
     "metadata": {},
     "output_type": "execute_result"
    }
   ],
   "source": [
    "ans=x+y\n",
    "ans"
   ]
  },
  {
   "cell_type": "code",
   "execution_count": 8,
   "id": "af0a41cb",
   "metadata": {},
   "outputs": [
    {
     "name": "stdout",
     "output_type": "stream",
     "text": [
      "[[2 2 9]\n",
      " [5 6 3]\n",
      " [3 1 2]]\n",
      "[5 5 4]\n"
     ]
    }
   ],
   "source": [
    "x=np.random.randint(1,10,( 3,3))\n",
    "y=np.random.randint(1,10,(3))\n",
    "print(x)\n",
    "print(y)"
   ]
  },
  {
   "cell_type": "code",
   "execution_count": 10,
   "id": "c14aff5f",
   "metadata": {},
   "outputs": [
    {
     "name": "stdout",
     "output_type": "stream",
     "text": [
      "[5 5 4]\n"
     ]
    },
    {
     "data": {
      "text/plain": [
       "array([[10, 10, 36],\n",
       "       [25, 30, 12],\n",
       "       [15,  5,  8]])"
      ]
     },
     "execution_count": 10,
     "metadata": {},
     "output_type": "execute_result"
    }
   ],
   "source": [
    "y=np.transpose(y)\n",
    "print(y)\n",
    "ans=x*y\n",
    "ans"
   ]
  },
  {
   "cell_type": "code",
   "execution_count": 12,
   "id": "59ee4236",
   "metadata": {},
   "outputs": [
    {
     "name": "stdout",
     "output_type": "stream",
     "text": [
      "[[8 8]\n",
      " [3 1]\n",
      " [7 9]]\n",
      "[[7 4 3]\n",
      " [2 3 1]]\n"
     ]
    }
   ],
   "source": [
    "a=np.random.randint(1,10,(3,2))\n",
    "b=np.random.randint(1,10,(2,3))\n",
    "print(a)\n",
    "print(b)"
   ]
  },
  {
   "cell_type": "code",
   "execution_count": 16,
   "id": "ccd170dd",
   "metadata": {},
   "outputs": [
    {
     "name": "stdout",
     "output_type": "stream",
     "text": [
      "[[7 2]\n",
      " [4 3]\n",
      " [3 1]]\n",
      "[[56 16]\n",
      " [12  3]\n",
      " [21  9]]\n"
     ]
    }
   ],
   "source": [
    "b=np.transpose(b)\n",
    "print(b)\n",
    "jay=a*b\n",
    "print(jay)"
   ]
  },
  {
   "cell_type": "code",
   "execution_count": null,
   "id": "8c05c6e9",
   "metadata": {},
   "outputs": [],
   "source": [
    " "
   ]
  }
 ],
 "metadata": {
  "kernelspec": {
   "display_name": "Python 3 (ipykernel)",
   "language": "python",
   "name": "python3"
  },
  "language_info": {
   "codemirror_mode": {
    "name": "ipython",
    "version": 3
   },
   "file_extension": ".py",
   "mimetype": "text/x-python",
   "name": "python",
   "nbconvert_exporter": "python",
   "pygments_lexer": "ipython3",
   "version": "3.10.7"
  }
 },
 "nbformat": 4,
 "nbformat_minor": 5
}
