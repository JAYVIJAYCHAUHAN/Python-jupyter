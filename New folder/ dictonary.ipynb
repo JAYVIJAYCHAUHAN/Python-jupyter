{
 "cells": [
  {
   "cell_type": "code",
   "execution_count": 4,
   "id": "13f2072d",
   "metadata": {},
   "outputs": [],
   "source": [
    "a={\"the\":1,\"a\":2,1000:\"qvx\"}"
   ]
  },
  {
   "cell_type": "code",
   "execution_count": 5,
   "id": "4de47b09",
   "metadata": {},
   "outputs": [
    {
     "name": "stdout",
     "output_type": "stream",
     "text": [
      "{'the': 1, 'a': 2, 1000: 'qvx'}\n"
     ]
    }
   ],
   "source": [
    "print(a)"
   ]
  },
  {
   "cell_type": "code",
   "execution_count": 3,
   "id": "bc588be9",
   "metadata": {},
   "outputs": [
    {
     "data": {
      "text/plain": [
       "dict"
      ]
     },
     "execution_count": 3,
     "metadata": {},
     "output_type": "execute_result"
    }
   ],
   "source": [
    "type(a)"
   ]
  },
  {
   "cell_type": "code",
   "execution_count": 8,
   "id": "4d12ca3b",
   "metadata": {},
   "outputs": [
    {
     "data": {
      "text/plain": [
       "3"
      ]
     },
     "execution_count": 8,
     "metadata": {},
     "output_type": "execute_result"
    }
   ],
   "source": [
    "len(a)"
   ]
  },
  {
   "cell_type": "code",
   "execution_count": 10,
   "id": "29ea00b5",
   "metadata": {},
   "outputs": [],
   "source": [
    " b=a.copy()"
   ]
  },
  {
   "cell_type": "code",
   "execution_count": 12,
   "id": "eca7d4c0",
   "metadata": {},
   "outputs": [
    {
     "data": {
      "text/plain": [
       "{'the': 1, 'a': 2, 1000: 'qvx'}"
      ]
     },
     "execution_count": 12,
     "metadata": {},
     "output_type": "execute_result"
    }
   ],
   "source": [
    "b"
   ]
  },
  {
   "cell_type": "code",
   "execution_count": 16,
   "id": "43b18e4a",
   "metadata": {},
   "outputs": [],
   "source": [
    "c= dict([(\"the\",2),(\"jay\",4),(\"vijay\",5)])"
   ]
  },
  {
   "cell_type": "code",
   "execution_count": 18,
   "id": "89a352e4",
   "metadata": {},
   "outputs": [
    {
     "data": {
      "text/plain": [
       "{'the': 2, 'jay': 4, 'vijay': 5}"
      ]
     },
     "execution_count": 18,
     "metadata": {},
     "output_type": "execute_result"
    }
   ],
   "source": [
    "c"
   ]
  },
  {
   "cell_type": "code",
   "execution_count": 19,
   "id": "48d1920d",
   "metadata": {},
   "outputs": [],
   "source": [
    " d=dict.fromkeys([\"abc\",3,4],10)"
   ]
  },
  {
   "cell_type": "code",
   "execution_count": 21,
   "id": "b773952c",
   "metadata": {},
   "outputs": [
    {
     "data": {
      "text/plain": [
       "{'abc': 10, 3: 10, 4: 10}"
      ]
     },
     "execution_count": 21,
     "metadata": {},
     "output_type": "execute_result"
    }
   ],
   "source": [
    "d"
   ]
  },
  {
   "cell_type": "code",
   "execution_count": 22,
   "id": "3c589daa",
   "metadata": {},
   "outputs": [],
   "source": [
    "g={1:3,3:5,\"list\":[1,3,5],\"dict\":{1:2}}"
   ]
  },
  {
   "cell_type": "code",
   "execution_count": 24,
   "id": "3d751f0d",
   "metadata": {},
   "outputs": [
    {
     "data": {
      "text/plain": [
       "{1: 3, 3: 5, 'list': [1, 3, 5], 'dict': {1: 2}}"
      ]
     },
     "execution_count": 24,
     "metadata": {},
     "output_type": "execute_result"
    }
   ],
   "source": [
    "g"
   ]
  },
  {
   "cell_type": "markdown",
   "id": "a34929b5",
   "metadata": {},
   "source": [
    "## g[]"
   ]
  },
  {
   "cell_type": "code",
   "execution_count": 30,
   "id": "94bacd1f",
   "metadata": {},
   "outputs": [
    {
     "data": {
      "text/plain": [
       "[1, 3, 5]"
      ]
     },
     "execution_count": 30,
     "metadata": {},
     "output_type": "execute_result"
    }
   ],
   "source": [
    "g['list']"
   ]
  },
  {
   "cell_type": "code",
   "execution_count": 34,
   "id": "5ba4e480",
   "metadata": {},
   "outputs": [
    {
     "data": {
      "text/plain": [
       "[1, 3, 5]"
      ]
     },
     "execution_count": 34,
     "metadata": {},
     "output_type": "execute_result"
    }
   ],
   "source": [
    "g.get('list')"
   ]
  },
  {
   "cell_type": "code",
   "execution_count": 36,
   "id": "89d3cb14",
   "metadata": {},
   "outputs": [
    {
     "name": "stdout",
     "output_type": "stream",
     "text": [
      "None\n"
     ]
    }
   ],
   "source": [
    "print(g.get('li'))"
   ]
  },
  {
   "cell_type": "code",
   "execution_count": 38,
   "id": "90fa9a64",
   "metadata": {},
   "outputs": [
    {
     "data": {
      "text/plain": [
       "4"
      ]
     },
     "execution_count": 38,
     "metadata": {},
     "output_type": "execute_result"
    }
   ],
   "source": [
    "  g.get('li',4)"
   ]
  },
  {
   "cell_type": "code",
   "execution_count": 42,
   "id": "2a7cfa5d",
   "metadata": {},
   "outputs": [
    {
     "name": "stdout",
     "output_type": "stream",
     "text": [
      "1 3\n",
      "3 5\n",
      "list [1, 3, 5]\n",
      "dict {1: 2}\n"
     ]
    }
   ],
   "source": [
    "for i in g:\n",
    "    print(i,g[i])"
   ]
  },
  {
   "cell_type": "code",
   "execution_count": 44,
   "id": "fceb7bb6",
   "metadata": {},
   "outputs": [
    {
     "name": "stdout",
     "output_type": "stream",
     "text": [
      "3\n",
      "5\n",
      "[1, 3, 5]\n",
      "{1: 2}\n"
     ]
    }
   ],
   "source": [
    "for i in g.values():\n",
    "    print(i)"
   ]
  },
  {
   "cell_type": "code",
   "execution_count": 46,
   "id": "fa8dff92",
   "metadata": {},
   "outputs": [
    {
     "data": {
      "text/plain": [
       "True"
      ]
     },
     "execution_count": 46,
     "metadata": {},
     "output_type": "execute_result"
    }
   ],
   "source": [
    "\"list\"in g #for serching in the dic\n"
   ]
  },
  {
   "cell_type": "code",
   "execution_count": 48,
   "id": "d89c45e5",
   "metadata": {},
   "outputs": [],
   "source": [
    "g['tuple']=(2,3,5) #add data in dic"
   ]
  },
  {
   "cell_type": "code",
   "execution_count": 50,
   "id": "41443c3b",
   "metadata": {},
   "outputs": [
    {
     "data": {
      "text/plain": [
       "{1: 3, 3: 5, 'list': [1, 3, 5], 'dict': {1: 2}, 'tuple': (2, 3, 5)}"
      ]
     },
     "execution_count": 50,
     "metadata": {},
     "output_type": "execute_result"
    }
   ],
   "source": [
    "g"
   ]
  },
  {
   "cell_type": "code",
   "execution_count": 53,
   "id": "94405acd",
   "metadata": {},
   "outputs": [],
   "source": [
    "g[1]=10 #update data"
   ]
  },
  {
   "cell_type": "code",
   "execution_count": null,
   "id": "ce335f3b",
   "metadata": {},
   "outputs": [],
   "source": []
  },
  {
   "cell_type": "code",
   "execution_count": 54,
   "id": "401604e1",
   "metadata": {},
   "outputs": [
    {
     "data": {
      "text/plain": [
       "{1: 10, 3: 5, 'list': [1, 3, 5], 'dict': {1: 2}, 'tuple': (2, 3, 5)}"
      ]
     },
     "execution_count": 54,
     "metadata": {},
     "output_type": "execute_result"
    }
   ],
   "source": [
    "g"
   ]
  },
  {
   "cell_type": "code",
   "execution_count": 56,
   "id": "7975f9e8",
   "metadata": {},
   "outputs": [],
   "source": [
    "g.update(a)"
   ]
  },
  {
   "cell_type": "code",
   "execution_count": 58,
   "id": "32c918d5",
   "metadata": {},
   "outputs": [
    {
     "data": {
      "text/plain": [
       "{1: 10,\n",
       " 3: 5,\n",
       " 'list': [1, 3, 5],\n",
       " 'dict': {1: 2},\n",
       " 'tuple': (2, 3, 5),\n",
       " 'the': 1,\n",
       " 'a': 2,\n",
       " 1000: 'qvx'}"
      ]
     },
     "execution_count": 58,
     "metadata": {},
     "output_type": "execute_result"
    }
   ],
   "source": [
    "g"
   ]
  },
  {
   "cell_type": "code",
   "execution_count": 60,
   "id": "4f2d24e8",
   "metadata": {},
   "outputs": [
    {
     "ename": "KeyError",
     "evalue": "'tuple'",
     "output_type": "error",
     "traceback": [
      "\u001b[1;31m---------------------------------------------------------------------------\u001b[0m",
      "\u001b[1;31mKeyError\u001b[0m                                  Traceback (most recent call last)",
      "Cell \u001b[1;32mIn [60], line 1\u001b[0m\n\u001b[1;32m----> 1\u001b[0m g\u001b[38;5;241m.\u001b[39mpop(\u001b[38;5;124m'\u001b[39m\u001b[38;5;124mtuple\u001b[39m\u001b[38;5;124m'\u001b[39m)\n",
      "\u001b[1;31mKeyError\u001b[0m: 'tuple'"
     ]
    }
   ],
   "source": [
    "g.pop('tuple')"
   ]
  },
  {
   "cell_type": "code",
   "execution_count": 62,
   "id": "02c8a817",
   "metadata": {},
   "outputs": [
    {
     "data": {
      "text/plain": [
       "{1: 10, 3: 5, 'list': [1, 3, 5], 'dict': {1: 2}, 'the': 1, 'a': 2, 1000: 'qvx'}"
      ]
     },
     "execution_count": 62,
     "metadata": {},
     "output_type": "execute_result"
    }
   ],
   "source": [
    "g\n"
   ]
  },
  {
   "cell_type": "code",
   "execution_count": 64,
   "id": "8d6cc12f",
   "metadata": {},
   "outputs": [],
   "source": [
    "g.clear()"
   ]
  },
  {
   "cell_type": "code",
   "execution_count": 66,
   "id": "758450ef",
   "metadata": {},
   "outputs": [
    {
     "data": {
      "text/plain": [
       "{}"
      ]
     },
     "execution_count": 66,
     "metadata": {},
     "output_type": "execute_result"
    }
   ],
   "source": [
    "g"
   ]
  },
  {
   "cell_type": "code",
   "execution_count": 69,
   "id": "dfd616f6",
   "metadata": {},
   "outputs": [
    {
     "ename": "NameError",
     "evalue": "name 'g' is not defined",
     "output_type": "error",
     "traceback": [
      "\u001b[1;31m---------------------------------------------------------------------------\u001b[0m",
      "\u001b[1;31mNameError\u001b[0m                                 Traceback (most recent call last)",
      "Cell \u001b[1;32mIn [69], line 1\u001b[0m\n\u001b[1;32m----> 1\u001b[0m \u001b[38;5;28;01mdel\u001b[39;00m g\n",
      "\u001b[1;31mNameError\u001b[0m: name 'g' is not defined"
     ]
    }
   ],
   "source": [
    "del g"
   ]
  },
  {
   "cell_type": "code",
   "execution_count": 70,
   "id": "d7a3b6b3",
   "metadata": {},
   "outputs": [
    {
     "ename": "NameError",
     "evalue": "name 'g' is not defined",
     "output_type": "error",
     "traceback": [
      "\u001b[1;31m---------------------------------------------------------------------------\u001b[0m",
      "\u001b[1;31mNameError\u001b[0m                                 Traceback (most recent call last)",
      "Cell \u001b[1;32mIn [70], line 1\u001b[0m\n\u001b[1;32m----> 1\u001b[0m g\n",
      "\u001b[1;31mNameError\u001b[0m: name 'g' is not defined"
     ]
    }
   ],
   "source": [
    "g"
   ]
  },
  {
   "cell_type": "code",
   "execution_count": null,
   "id": "6512319c",
   "metadata": {},
   "outputs": [],
   "source": [
    "g"
   ]
  }
 ],
 "metadata": {
  "kernelspec": {
   "display_name": "Python 3 (ipykernel)",
   "language": "python",
   "name": "python3"
  },
  "language_info": {
   "codemirror_mode": {
    "name": "ipython",
    "version": 3
   },
   "file_extension": ".py",
   "mimetype": "text/x-python",
   "name": "python",
   "nbconvert_exporter": "python",
   "pygments_lexer": "ipython3",
   "version": "3.10.7"
  }
 },
 "nbformat": 4,
 "nbformat_minor": 5
}
