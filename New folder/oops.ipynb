{
 "cells": [
  {
   "cell_type": "code",
   "execution_count": 2,
   "id": "8ff31606",
   "metadata": {},
   "outputs": [
    {
     "name": "stdout",
     "output_type": "stream",
     "text": [
      "<class 'int'>\n"
     ]
    }
   ],
   "source": [
    "a=10\n",
    "print(type(a))"
   ]
  },
  {
   "cell_type": "code",
   "execution_count": 4,
   "id": "907f8994",
   "metadata": {},
   "outputs": [
    {
     "name": "stdout",
     "output_type": "stream",
     "text": [
      "<class 'list'>\n"
     ]
    }
   ],
   "source": [
    "l=[1,3,4]\n",
    "print(type(l))"
   ]
  },
  {
   "cell_type": "code",
   "execution_count": 6,
   "id": "602ac2ff",
   "metadata": {},
   "outputs": [],
   "source": [
    "class student:\n",
    "    pass\n",
    "s1=student()\n",
    "s2=student()\n",
    "s3=student()"
   ]
  },
  {
   "cell_type": "code",
   "execution_count": 7,
   "id": "2302eddb",
   "metadata": {},
   "outputs": [],
   "source": [
    "s1.name=\"jayvijay chauhan\"\n",
    "s1.age=19"
   ]
  },
  {
   "cell_type": "code",
   "execution_count": 8,
   "id": "b48addd8",
   "metadata": {},
   "outputs": [],
   "source": [
    "s2.roll=98\n",
    "s3.age=19"
   ]
  },
  {
   "cell_type": "code",
   "execution_count": 10,
   "id": "07433938",
   "metadata": {},
   "outputs": [
    {
     "name": "stdout",
     "output_type": "stream",
     "text": [
      "{'name': 'jayvijay chauhan'}\n",
      "{'roll': 98}\n",
      "{'age': 19}\n"
     ]
    }
   ],
   "source": [
    " print(s1.__dict__)\n",
    " print(s2.__dict__)\n",
    " print(s3.__dict__)"
   ]
  },
  {
   "cell_type": "code",
   "execution_count": 12,
   "id": "f7c81aa0",
   "metadata": {},
   "outputs": [
    {
     "name": "stdout",
     "output_type": "stream",
     "text": [
      "{}\n"
     ]
    }
   ],
   "source": [
    "s4=student()\n",
    "print(s4.__dict__)"
   ]
  },
  {
   "cell_type": "code",
   "execution_count": 14,
   "id": "005513f7",
   "metadata": {},
   "outputs": [
    {
     "name": "stdout",
     "output_type": "stream",
     "text": [
      "jayvijay chauhan\n"
     ]
    }
   ],
   "source": [
    "print(s1.name)"
   ]
  },
  {
   "cell_type": "code",
   "execution_count": 16,
   "id": "f6ec9845",
   "metadata": {},
   "outputs": [
    {
     "name": "stdout",
     "output_type": "stream",
     "text": [
      "98\n"
     ]
    }
   ],
   "source": [
    "print(s2.roll)"
   ]
  },
  {
   "cell_type": "code",
   "execution_count": 18,
   "id": "970529a7",
   "metadata": {},
   "outputs": [
    {
     "data": {
      "text/plain": [
       "True"
      ]
     },
     "execution_count": 18,
     "metadata": {},
     "output_type": "execute_result"
    }
   ],
   "source": [
    "hasattr(s1,'name')"
   ]
  },
  {
   "cell_type": "code",
   "execution_count": 20,
   "id": "bab24274",
   "metadata": {},
   "outputs": [
    {
     "name": "stdout",
     "output_type": "stream",
     "text": [
      "<__main__.student object at 0x000001D0842ECA00> name\n"
     ]
    }
   ],
   "source": [
    "print(s2,'name')"
   ]
  },
  {
   "cell_type": "code",
   "execution_count": 22,
   "id": "1d24705b",
   "metadata": {},
   "outputs": [
    {
     "name": "stdout",
     "output_type": "stream",
     "text": [
      "jayvijay chauhan\n"
     ]
    }
   ],
   "source": [
    "print(getattr(s1,'name'))"
   ]
  },
  {
   "cell_type": "code",
   "execution_count": 24,
   "id": "2620b847",
   "metadata": {},
   "outputs": [
    {
     "name": "stdout",
     "output_type": "stream",
     "text": [
      "test\n"
     ]
    }
   ],
   "source": [
    "print(getattr(s2,'name','test'))"
   ]
  },
  {
   "cell_type": "code",
   "execution_count": 1,
   "id": "4e9c1ce4",
   "metadata": {},
   "outputs": [
    {
     "ename": "NameError",
     "evalue": "name 's1' is not defined",
     "output_type": "error",
     "traceback": [
      "\u001b[1;31m---------------------------------------------------------------------------\u001b[0m",
      "\u001b[1;31mNameError\u001b[0m                                 Traceback (most recent call last)",
      "Cell \u001b[1;32mIn [1], line 1\u001b[0m\n\u001b[1;32m----> 1\u001b[0m \u001b[38;5;28mdelattr\u001b[39m(s1,\u001b[38;5;124m'\u001b[39m\u001b[38;5;124mname\u001b[39m\u001b[38;5;124m'\u001b[39m)\n\u001b[0;32m      2\u001b[0m \u001b[38;5;28mprint\u001b[39m(s1\u001b[38;5;241m.\u001b[39m\u001b[38;5;18m__dict__\u001b[39m)\n",
      "\u001b[1;31mNameError\u001b[0m: name 's1' is not defined"
     ]
    }
   ],
   "source": [
    "delattr(s1,'name')\n",
    "print(s1.__dict__)"
   ]
  },
  {
   "cell_type": "code",
   "execution_count": 3,
   "id": "6738712c",
   "metadata": {},
   "outputs": [],
   "source": [
    " class student:\n",
    "        totalstudent=20\n",
    "        classteacher='jay'"
   ]
  },
  {
   "cell_type": "code",
   "execution_count": 5,
   "id": "7975cd29",
   "metadata": {},
   "outputs": [
    {
     "name": "stdout",
     "output_type": "stream",
     "text": [
      "{'__module__': '__main__', 'totalstudent': 20, 'classteacher': 'jay', '__dict__': <attribute '__dict__' of 'student' objects>, '__weakref__': <attribute '__weakref__' of 'student' objects>, '__doc__': None}\n"
     ]
    }
   ],
   "source": [
    "print(student.__dict__)"
   ]
  },
  {
   "cell_type": "code",
   "execution_count": 7,
   "id": "b9cd0472",
   "metadata": {},
   "outputs": [
    {
     "name": "stdout",
     "output_type": "stream",
     "text": [
      "20\n"
     ]
    }
   ],
   "source": [
    "print(student.totalstudent)"
   ]
  },
  {
   "cell_type": "code",
   "execution_count": 8,
   "id": "a7eb8e7e",
   "metadata": {},
   "outputs": [],
   "source": [
    "student.totalstudent=32"
   ]
  },
  {
   "cell_type": "code",
   "execution_count": 10,
   "id": "80f2e54d",
   "metadata": {},
   "outputs": [
    {
     "name": "stdout",
     "output_type": "stream",
     "text": [
      "32\n"
     ]
    }
   ],
   "source": [
    "print(student.totalstudent)"
   ]
  },
  {
   "cell_type": "code",
   "execution_count": 39,
   "id": "8285272d",
   "metadata": {},
   "outputs": [],
   "source": [
    "class student:\n",
    "        totalstudent=20\n",
    "        classteacher='jay'\n",
    "        #default constructure\n",
    "        def __init__(self):\n",
    "            print(\"my name is default cons\")\n",
    "            pass\n",
    "        def __init__(self):\n",
    "            self.name='jay'\n",
    "            self.age=30\n",
    "            self.rn=23\n",
    "        def __init__(self,name,age,rn):\n",
    "            self.name=name\n",
    "            self.age=age\n",
    "            self.rn=rn\n",
    "            \n",
    "        def printH(self):# instance method \n",
    "            print(\"hell0\")\n",
    "        def printJ(self,str):\n",
    "            print(str)\n",
    "        def addName(self,name):\n",
    "            self.name=name\n",
    "            \n",
    "#s4=student()\n",
    "#s5=student()\n",
    "s4=student('jay',23,22)\n",
    "s5=student('vijay',23,42)"
   ]
  },
  {
   "cell_type": "code",
   "execution_count": 41,
   "id": "0a306448",
   "metadata": {},
   "outputs": [
    {
     "name": "stdout",
     "output_type": "stream",
     "text": [
      "{'name': 'jay', 'age': 23, 'rn': 22}\n",
      "{'name': 'vijay', 'age': 23, 'rn': 42}\n"
     ]
    }
   ],
   "source": [
    "print(s4.__dict__)\n",
    "print(s5.__dict__)"
   ]
  },
  {
   "cell_type": "code",
   "execution_count": 42,
   "id": "5bd8160a",
   "metadata": {},
   "outputs": [],
   "source": [
    "#for protected use __\n",
    "#public is everywhere"
   ]
  },
  {
   "cell_type": "code",
   "execution_count": null,
   "id": "1b043734",
   "metadata": {},
   "outputs": [],
   "source": []
  },
  {
   "cell_type": "code",
   "execution_count": 22,
   "id": "4cb11a08",
   "metadata": {},
   "outputs": [
    {
     "name": "stdout",
     "output_type": "stream",
     "text": [
      "hell0\n",
      "hi\n"
     ]
    }
   ],
   "source": [
    "s4.printH()\n",
    "s4.printJ(\"hi\")"
   ]
  },
  {
   "cell_type": "code",
   "execution_count": 28,
   "id": "ac17bd94",
   "metadata": {},
   "outputs": [
    {
     "name": "stdout",
     "output_type": "stream",
     "text": [
      "hell0\n"
     ]
    }
   ],
   "source": [
    "student.printH(s4)"
   ]
  },
  {
   "cell_type": "code",
   "execution_count": 30,
   "id": "be2e5c2d",
   "metadata": {},
   "outputs": [
    {
     "name": "stdout",
     "output_type": "stream",
     "text": [
      "{}\n"
     ]
    }
   ],
   "source": [
    "print(s4.__dict__)"
   ]
  }
 ],
 "metadata": {
  "kernelspec": {
   "display_name": "Python 3 (ipykernel)",
   "language": "python",
   "name": "python3"
  },
  "language_info": {
   "codemirror_mode": {
    "name": "ipython",
    "version": 3
   },
   "file_extension": ".py",
   "mimetype": "text/x-python",
   "name": "python",
   "nbconvert_exporter": "python",
   "pygments_lexer": "ipython3",
   "version": "3.10.7"
  }
 },
 "nbformat": 4,
 "nbformat_minor": 5
}
